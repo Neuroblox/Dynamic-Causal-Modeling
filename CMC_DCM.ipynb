{
 "cells": [
  {
   "cell_type": "code",
   "execution_count": 54,
   "metadata": {},
   "outputs": [],
   "source": [
    "# Questions for David! :) \n",
    "# Why are the freqs = vec(vars[\"Hz\"]) predefined? Should it not depend on the dt, desired frequency range, etc? \n",
    "# How should I fix parameters for LFP data? I took Anthony's code, which is for BOLD data. Re: CMC_DCM.jl code\n",
    "\n",
    "# Sum symbol error?"
   ]
  },
  {
   "cell_type": "code",
   "execution_count": 55,
   "metadata": {},
   "outputs": [],
   "source": [
    "using LinearAlgebra\n",
    "using MKL\n",
    "using FFTW\n",
    "using ToeplitzMatrices\n",
    "using MAT\n",
    "using ExponentialUtilities\n",
    "using Serialization\n",
    "using OrderedCollections\n",
    "using StatProfilerHTML\n",
    "using MetaGraphs\n",
    "using Graphs"
   ]
  },
  {
   "cell_type": "code",
   "execution_count": 56,
   "metadata": {},
   "outputs": [],
   "source": [
    "function Base.vec(x::T) where (T <: Real)\n",
    "    return x*ones(1)\n",
    "end"
   ]
  },
  {
   "cell_type": "code",
   "execution_count": 72,
   "metadata": {},
   "outputs": [
    {
     "data": {
      "text/plain": [
       "csd2mar"
      ]
     },
     "metadata": {},
     "output_type": "display_data"
    }
   ],
   "source": [
    "include(\"src/models/hemodynamic_response.jl\")        # hemodynamic and BOLD signal model\n",
    "include(\"src/VariationalBayes_spm12_anthonyPM_myedits.jl\")         # this can be switched between _spm12 and _AD version. There is also a separate ADVI version in VariationalBayes_ADVI.jl\n",
    "include(\"src/utils/mar.jl\")                         # multivariate auto-regressive model functions\n",
    "\n",
    "# this is not working: \"LoadError: UndefVarError: `NeuralMassBlox` not defined\" \n",
    "#include(\"/Users/hv099/Documents/lcneuro/propofol/Neuroblox.jl/src/blox/canonicalmicrocircuit.jl\")\n",
    "\n",
    "# does not exist in this repo\n",
    "#include(\"src/lfp_leadfield.jl\")"
   ]
  },
  {
   "cell_type": "code",
   "execution_count": 58,
   "metadata": {},
   "outputs": [],
   "source": [
    "### get data and compute cross spectral density which is the actual input to the spectral DCM ###\n",
    "#vars = matread(\"/Users/achesebro/Documents/GitHub/extra_hemodynamic_sims/matlab\"*string(field)*\"T_\"*string(regionNum)*\"regions_v\"*lpad(runNum, 2, \"0\")*\".mat\");\n",
    "vars = matread(\"/Users/hv099/Documents/lcneuro/propofol/Neuroblox.jl/cmc_test_output.mat\");\n",
    "y = vars[\"data\"];\n",
    "dt = vars[\"dt\"];\n",
    "freqs = vec(vars[\"Hz\"]);\n",
    "p = 8;                               # order of MAR, it is hard-coded in SPM12 with this value. We will just use the same for now.\n"
   ]
  },
  {
   "cell_type": "code",
   "execution_count": 59,
   "metadata": {},
   "outputs": [
    {
     "name": "stdout",
     "output_type": "stream",
     "text": [
      "priors loaded\n"
     ]
    }
   ],
   "source": [
    "# I am skipping the detrending step from Anthony's BP code as I don't think mine really needs to be detrended.\n",
    "\n",
    "mar = mar_ml(y, p);                  # compute MAR from time series y and model order p\n",
    "#mar = estimate_mar(y, p, 1)\n",
    "y_csd = mar2csd(mar, freqs, dt^-1);  # compute cross spectral densities from MAR parameters at specific frequencies freqs, dt^-1 is sampling rate of data\n",
    "#y_csd2 = vars[\"csd\"]\n",
    "\n",
    "### Define priors and initial conditions ###\n",
    "x = vars[\"x\"];                       # initial condition of dynamic variabls\n",
    "A = vars[\"pE\"][\"A\"];                 # initial values of connectivity matrix\n",
    "θΣ = vars[\"pC\"];                     # prior covariance of parameter values \n",
    "μλ_pr = vec(vars[\"hE\"]);                # prior mean of hyperparameters\n",
    "Πλ_pr = vars[\"ihC\"];                  # prior precision matrix of hyperparameters\n",
    "if typeof(Πλ_pr) <: Number            # typically Πλ_p is a matrix, however, if only one hyperparameter is used it will turn out to be a scalar -> transform that to matrix\n",
    "    Πλ_pr *= ones(1, 1)\n",
    "end\n",
    "\n",
    "println(\"priors loaded\")"
   ]
  },
  {
   "cell_type": "code",
   "execution_count": 60,
   "metadata": {},
   "outputs": [
    {
     "name": "stdout",
     "output_type": "stream",
     "text": [
      "priors reduced\n"
     ]
    }
   ],
   "source": [
    "# depending on the definition of the priors (note that we take it from the SPM12 code), some dimensions are set to 0 and thus are not changed.\n",
    "# Extract these dimensions and remove them from the remaining computation. I find this a bit odd and further thoughts would be necessary to understand\n",
    "# to what extend this is legitimate. \n",
    "idx = findall(x -> x != 0, θΣ);\n",
    "V = zeros(size(θΣ, 1), length(idx));\n",
    "order = sortperm(θΣ[idx], rev=true);\n",
    "idx = idx[order];\n",
    "for i = 1:length(idx)\n",
    "    V[idx[i][1], i] = 1.0\n",
    "end\n",
    "θΣ = V'*θΣ*V;       # reduce dimension by removing columns and rows that are all 0\n",
    "Πθ_pr = inv(θΣ);\n",
    "println(\"priors reduced\")"
   ]
  },
  {
   "cell_type": "code",
   "execution_count": 82,
   "metadata": {},
   "outputs": [
    {
     "name": "stdout",
     "output_type": "stream",
     "text": [
      "priors defined\n"
     ]
    }
   ],
   "source": [
    "# I think I need to alter this, as I am fitting to LFP data, not BOLD data.\n",
    "\n",
    "# define a few more initial values of parameters of the model\n",
    "dim = size(A, 1);\n",
    "C = zeros(Float64, dim);          # C as in equation 3. NB: whatever C is defined to be here, it will be replaced in csd_approx. Another little strange thing of SPM12...\n",
    "lnα = [0.0, 0.0];                 # ln(α) as in equation 2 \n",
    "lnβ = [0.0, 0.0];                 # ln(β) as in equation 2\n",
    "lnγ = zeros(Float64, dim);        # region specific observation noise parameter\n",
    "lnϵ = 0.0;                        # BOLD signal parameter\n",
    "lndecay = 0.0;                    # hemodynamic parameter\n",
    "lntransit = zeros(Float64, dim);  # hemodynamic parameters\n",
    "param = [p; reshape(A, dim^2); C; lntransit; lndecay; lnϵ; lnα[1]; lnβ[1]; lnα[2]; lnβ[2]; lnγ;];\n",
    "# param = [p; reshape(A, dim^2); C; lntransit; lndecay; lnϵ; reshape(lnα, dim^2); lnβ; lnγ;];\n",
    "# Strange α and β sorting? yes. This is to be consistent with the SPM12 code while keeping nomenclature consistent with the spectral DCM paper\n",
    "Q = csd_Q(y_csd);                 # compute prior of Q, the precision (of the data) components. See Friston etal. 2007 Appendix A\n",
    "priors = [Πθ_p, Πλ_p, λμ, Q];\n",
    "println(\"priors defined\")"
   ]
  },
  {
   "cell_type": "code",
   "execution_count": 77,
   "metadata": {},
   "outputs": [
    {
     "ename": "ArgumentError",
     "evalue": "ArgumentError: invalid index: :Σ of type Symbol",
     "output_type": "error",
     "traceback": [
      "ArgumentError: invalid index: :Σ of type Symbol\n",
      "\n",
      "Stacktrace:\n",
      " [1] to_index(i::Symbol)\n",
      "   @ Base ./indices.jl:300\n",
      " [2] to_index(A::Vector{Array}, i::Symbol)\n",
      "   @ Base ./indices.jl:277\n",
      " [3] _to_indices1(A::Vector{Array}, inds::Tuple{Base.OneTo{Int64}}, I1::Symbol)\n",
      "   @ Base ./indices.jl:359\n",
      " [4] to_indices\n",
      "   @ ./indices.jl:354 [inlined]\n",
      " [5] to_indices\n",
      "   @ ./indices.jl:345 [inlined]\n",
      " [6] getindex\n",
      "   @ ./abstractarray.jl:1291 [inlined]\n",
      " [7] variationalbayes(x::Matrix{Float64}, y::Array{ComplexF64, 3}, w::Vector{Float64}, V::Matrix{Float64}, p::Vector{Float64}, priors::Vector{Array}, niter::Int64)\n",
      "   @ Main ~/Documents/lcneuro/propofol/Spectral-Dynamic-Causal-Modeling/src/VariationalBayes_spm12_anthonyPM_myedits.jl:766\n",
      " [8] macro expansion\n",
      "   @ ./timing.jl:279 [inlined]\n",
      " [9] top-level scope\n",
      "   @ ~/Documents/lcneuro/propofol/Spectral-Dynamic-Causal-Modeling/CMC_DCM.ipynb:2"
     ]
    }
   ],
   "source": [
    "### Compute the DCM ###\n",
    "@time results = variationalbayes(x, y_csd, freqs, V, param, priors, 128)"
   ]
  }
 ],
 "metadata": {
  "kernelspec": {
   "display_name": "Julia 1.10.4",
   "language": "julia",
   "name": "julia-1.10"
  },
  "language_info": {
   "file_extension": ".jl",
   "mimetype": "application/julia",
   "name": "julia",
   "version": "1.10.4"
  }
 },
 "nbformat": 4,
 "nbformat_minor": 2
}
